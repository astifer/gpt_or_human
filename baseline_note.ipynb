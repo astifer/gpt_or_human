{
 "cells": [
  {
   "cell_type": "code",
   "execution_count": null,
   "metadata": {},
   "outputs": [],
   "source": [
    "# https://git.codenrock.com/gpt-or-human/cnrprod-team-36242/gpt-human-model"
   ]
  },
  {
   "attachments": {},
   "cell_type": "markdown",
   "metadata": {},
   "source": [
    "### Import\n"
   ]
  },
  {
   "cell_type": "code",
   "execution_count": 125,
   "metadata": {},
   "outputs": [
    {
     "name": "stderr",
     "output_type": "stream",
     "text": [
      "[nltk_data] Downloading package punkt to C:\\Users\\Artem\n",
      "[nltk_data]     Pereverzev\\AppData\\Roaming\\nltk_data...\n",
      "[nltk_data]   Package punkt is already up-to-date!\n"
     ]
    }
   ],
   "source": [
    "import pandas as pd\n",
    "from sentence_transformers import SentenceTransformer\n",
    "from sklearn import svm\n",
    "from sklearn.model_selection import train_test_split\n",
    "\n",
    "import nltk\n",
    "from nltk.tokenize import word_tokenize\n",
    "import string\n",
    "\n",
    "from random import randint\n",
    "nltk.download('punkt')\n",
    "\n",
    "\n",
    "# import numpy as np\n",
    "\n",
    "import matplotlib.pyplot as plt\n",
    "%matplotlib inline\n",
    "import seaborn as sns\n",
    "sns.set()\n",
    "\n",
    "# import torch\n",
    "\n",
    "from catboost import Pool, CatBoostClassifier"
   ]
  },
  {
   "attachments": {},
   "cell_type": "markdown",
   "metadata": {},
   "source": [
    "### EDA"
   ]
  },
  {
   "cell_type": "code",
   "execution_count": 193,
   "metadata": {},
   "outputs": [
    {
     "data": {
      "text/html": [
       "<div>\n",
       "<style scoped>\n",
       "    .dataframe tbody tr th:only-of-type {\n",
       "        vertical-align: middle;\n",
       "    }\n",
       "\n",
       "    .dataframe tbody tr th {\n",
       "        vertical-align: top;\n",
       "    }\n",
       "\n",
       "    .dataframe thead th {\n",
       "        text-align: right;\n",
       "    }\n",
       "</style>\n",
       "<table border=\"1\" class=\"dataframe\">\n",
       "  <thead>\n",
       "    <tr style=\"text-align: right;\">\n",
       "      <th></th>\n",
       "      <th>q_title</th>\n",
       "      <th>q_id</th>\n",
       "      <th>label</th>\n",
       "      <th>ans_text</th>\n",
       "      <th>line_id</th>\n",
       "    </tr>\n",
       "  </thead>\n",
       "  <tbody>\n",
       "    <tr>\n",
       "      <th>0</th>\n",
       "      <td>Какие комплектующие должны быть в компьютере, ...</td>\n",
       "      <td>fff6c529-c037-47c8-b33b-873397243fbd</td>\n",
       "      <td>hu_answer</td>\n",
       "      <td>Да ничего особенного. :)\\nКорпус должен быть, ...</td>\n",
       "      <td>735ba0c5-e6b2-461a-bf5d-b7cb67d42299</td>\n",
       "    </tr>\n",
       "    <tr>\n",
       "      <th>1</th>\n",
       "      <td>Какие комплектующие должны быть в компьютере, ...</td>\n",
       "      <td>fff6c529-c037-47c8-b33b-873397243fbd</td>\n",
       "      <td>ai_answer</td>\n",
       "      <td>Здравствуйте! Спасибо за интересный вопрос. Дл...</td>\n",
       "      <td>f5eb55c6-2785-4ddc-8f97-30021fd75d68</td>\n",
       "    </tr>\n",
       "    <tr>\n",
       "      <th>2</th>\n",
       "      <td>Loading a Reusable UITableViewCell from a Nib</td>\n",
       "      <td>fff28c1f-9331-4467-b6f4-143d127a02a0</td>\n",
       "      <td>ai_answer</td>\n",
       "      <td>To load a reusable UITableViewCell from a Nib,...</td>\n",
       "      <td>bfd3d85e-6981-423d-a138-7580530a1f85</td>\n",
       "    </tr>\n",
       "    <tr>\n",
       "      <th>3</th>\n",
       "      <td>Loading a Reusable UITableViewCell from a Nib</td>\n",
       "      <td>fff28c1f-9331-4467-b6f4-143d127a02a0</td>\n",
       "      <td>hu_answer</td>\n",
       "      <td>Actually, since you are building the cell in I...</td>\n",
       "      <td>b823bb82-4b05-41ec-b226-7bd0aef29711</td>\n",
       "    </tr>\n",
       "    <tr>\n",
       "      <th>4</th>\n",
       "      <td>How can I change UIButton title color?</td>\n",
       "      <td>ffeccbf1-eff2-42b2-a472-f2a8c70b7dbd</td>\n",
       "      <td>hu_answer</td>\n",
       "      <td>You can use -[UIButton setTitleColor:forState:...</td>\n",
       "      <td>4816a574-6bbf-4658-b37b-39d05c29dfca</td>\n",
       "    </tr>\n",
       "  </tbody>\n",
       "</table>\n",
       "</div>"
      ],
      "text/plain": [
       "                                             q_title   \n",
       "0  Какие комплектующие должны быть в компьютере, ...  \\\n",
       "1  Какие комплектующие должны быть в компьютере, ...   \n",
       "2      Loading a Reusable UITableViewCell from a Nib   \n",
       "3      Loading a Reusable UITableViewCell from a Nib   \n",
       "4             How can I change UIButton title color?   \n",
       "\n",
       "                                   q_id      label   \n",
       "0  fff6c529-c037-47c8-b33b-873397243fbd  hu_answer  \\\n",
       "1  fff6c529-c037-47c8-b33b-873397243fbd  ai_answer   \n",
       "2  fff28c1f-9331-4467-b6f4-143d127a02a0  ai_answer   \n",
       "3  fff28c1f-9331-4467-b6f4-143d127a02a0  hu_answer   \n",
       "4  ffeccbf1-eff2-42b2-a472-f2a8c70b7dbd  hu_answer   \n",
       "\n",
       "                                            ans_text   \n",
       "0  Да ничего особенного. :)\\nКорпус должен быть, ...  \\\n",
       "1  Здравствуйте! Спасибо за интересный вопрос. Дл...   \n",
       "2  To load a reusable UITableViewCell from a Nib,...   \n",
       "3  Actually, since you are building the cell in I...   \n",
       "4  You can use -[UIButton setTitleColor:forState:...   \n",
       "\n",
       "                                line_id  \n",
       "0  735ba0c5-e6b2-461a-bf5d-b7cb67d42299  \n",
       "1  f5eb55c6-2785-4ddc-8f97-30021fd75d68  \n",
       "2  bfd3d85e-6981-423d-a138-7580530a1f85  \n",
       "3  b823bb82-4b05-41ec-b226-7bd0aef29711  \n",
       "4  4816a574-6bbf-4658-b37b-39d05c29dfca  "
      ]
     },
     "execution_count": 193,
     "metadata": {},
     "output_type": "execute_result"
    }
   ],
   "source": [
    "data = pd.read_csv(\"data/train.csv\")\n",
    "data.head()\n"
   ]
  },
  {
   "cell_type": "code",
   "execution_count": 194,
   "metadata": {},
   "outputs": [
    {
     "data": {
      "text/plain": [
       "(\"привет ! как говорится , `` классика - это то , что выжило , а современность - это то , что еще не умерло '' . шутка , конечно , но в ней есть доля правды . современная литература еще не успела стать классикой , но это не значит , что она не стоит вашего внимания . я бы порекомендовал начать с таких авторов , как харуки мураками , джон грин , гиллиан флинн , джоан роулинг и многих других . кто знает , может быть , через несколько десятилетий их произведения станут классикой ? в любом случае , не бойтесь экспериментировать и открывать для себя новых авторов . удачи в чтении !\",\n",
       " 'ai_answer')"
      ]
     },
     "execution_count": 194,
     "metadata": {},
     "output_type": "execute_result"
    }
   ],
   "source": [
    "cringe_symbs = ['\\n','\\t','\\r','\\0']\n",
    "cringe_symbs = dict({i:' ' for i in cringe_symbs})\n",
    "table = str.maketrans(cringe_symbs)\n",
    "\n",
    "def clean_text(text):\n",
    "    words = word_tokenize(text.lower().strip().translate(table)) \n",
    "\n",
    "    return \" \".join(words)\n",
    "\n",
    "data['ans_clean'] = data['ans_text'].apply(clean_text)\n",
    "data['q_clean'] = data['q_title'].apply(clean_text)\n",
    "\n",
    "n = randint(0, len(data))\n",
    "data.iloc[n]['ans_clean'],data.iloc[n]['label']"
   ]
  },
  {
   "cell_type": "code",
   "execution_count": 195,
   "metadata": {},
   "outputs": [
    {
     "data": {
      "text/plain": [
       "label\n",
       "ai_answer    2425\n",
       "hu_answer    2394\n",
       "Name: count, dtype: int64"
      ]
     },
     "execution_count": 195,
     "metadata": {},
     "output_type": "execute_result"
    }
   ],
   "source": [
    "data['label'].value_counts()"
   ]
  },
  {
   "cell_type": "code",
   "execution_count": 196,
   "metadata": {},
   "outputs": [
    {
     "name": "stdout",
     "output_type": "stream",
     "text": [
      "<class 'pandas.core.frame.DataFrame'>\n",
      "RangeIndex: 4819 entries, 0 to 4818\n",
      "Data columns (total 7 columns):\n",
      " #   Column     Non-Null Count  Dtype \n",
      "---  ------     --------------  ----- \n",
      " 0   q_title    4819 non-null   object\n",
      " 1   q_id       4819 non-null   object\n",
      " 2   label      4819 non-null   object\n",
      " 3   ans_text   4819 non-null   object\n",
      " 4   line_id    4819 non-null   object\n",
      " 5   ans_clean  4819 non-null   object\n",
      " 6   q_clean    4819 non-null   object\n",
      "dtypes: object(7)\n",
      "memory usage: 263.7+ KB\n"
     ]
    }
   ],
   "source": [
    "data.info()"
   ]
  },
  {
   "cell_type": "code",
   "execution_count": 197,
   "metadata": {},
   "outputs": [
    {
     "data": {
      "text/plain": [
       "count    4819.000000\n",
       "mean        0.004980\n",
       "std         0.345727\n",
       "min         0.000000\n",
       "25%         0.000000\n",
       "50%         0.000000\n",
       "75%         0.000000\n",
       "max        24.000000\n",
       "Name: tabs_count, dtype: float64"
      ]
     },
     "execution_count": 197,
     "metadata": {},
     "output_type": "execute_result"
    }
   ],
   "source": [
    "data['original_text_len'] = data['ans_text'].str.len()\n",
    "data['tabs_count'] = data['ans_text'].str.count('\\t')\n",
    "data['tabs_count'].describe()"
   ]
  },
  {
   "cell_type": "code",
   "execution_count": 198,
   "metadata": {},
   "outputs": [
    {
     "name": "stdout",
     "output_type": "stream",
     "text": [
      "one \n"
     ]
    }
   ],
   "source": [
    "for i in range(len(data)):\n",
    "  if data.loc[i]['tabs_count'] > 0:\n",
    "    print('one ')"
   ]
  },
  {
   "cell_type": "code",
   "execution_count": 199,
   "metadata": {},
   "outputs": [
    {
     "data": {
      "text/html": [
       "<div>\n",
       "<style scoped>\n",
       "    .dataframe tbody tr th:only-of-type {\n",
       "        vertical-align: middle;\n",
       "    }\n",
       "\n",
       "    .dataframe tbody tr th {\n",
       "        vertical-align: top;\n",
       "    }\n",
       "\n",
       "    .dataframe thead th {\n",
       "        text-align: right;\n",
       "    }\n",
       "</style>\n",
       "<table border=\"1\" class=\"dataframe\">\n",
       "  <thead>\n",
       "    <tr style=\"text-align: right;\">\n",
       "      <th></th>\n",
       "      <th>label</th>\n",
       "      <th>original_text_len</th>\n",
       "    </tr>\n",
       "  </thead>\n",
       "  <tbody>\n",
       "    <tr>\n",
       "      <th>0</th>\n",
       "      <td>ai_answer</td>\n",
       "      <td>658.255258</td>\n",
       "    </tr>\n",
       "    <tr>\n",
       "      <th>1</th>\n",
       "      <td>hu_answer</td>\n",
       "      <td>1195.491646</td>\n",
       "    </tr>\n",
       "  </tbody>\n",
       "</table>\n",
       "</div>"
      ],
      "text/plain": [
       "       label  original_text_len\n",
       "0  ai_answer         658.255258\n",
       "1  hu_answer        1195.491646"
      ]
     },
     "execution_count": 199,
     "metadata": {},
     "output_type": "execute_result"
    }
   ],
   "source": [
    "data[['label', 'original_text_len']].groupby('label', as_index=False).mean()"
   ]
  },
  {
   "cell_type": "code",
   "execution_count": 200,
   "metadata": {},
   "outputs": [],
   "source": [
    "data['ans_clean_len'] = data['ans_clean'].str.len()\n",
    "data['q_clean_len'] = data['q_clean'].str.len()"
   ]
  },
  {
   "cell_type": "code",
   "execution_count": 201,
   "metadata": {},
   "outputs": [
    {
     "name": "stdout",
     "output_type": "stream",
     "text": [
      "ai_written: 2425 (50.3%)\n",
      "human_written: 2394 (49.7%)\n",
      "Total: 4819\n"
     ]
    }
   ],
   "source": [
    "ai_written = data[data['label'] == 'ai_answer']\n",
    "human_written = data[data['label'] == 'hu_answer']\n",
    "\n",
    "print (\"ai_written: %i (%.1f%%)\"%(len(ai_written), (len(ai_written))/len(data)*100.0))\n",
    "print (\"human_written: %i (%.1f%%)\"%(len(human_written), (len(human_written))/len(data)*100.0))\n",
    "print (\"Total: %i\"%len(data))"
   ]
  },
  {
   "cell_type": "code",
   "execution_count": 202,
   "metadata": {},
   "outputs": [
    {
     "data": {
      "text/plain": [
       "Text(0.5, 1.0, 'AI')"
      ]
     },
     "execution_count": 202,
     "metadata": {},
     "output_type": "execute_result"
    },
    {
     "data": {
      "image/png": "[encoded data removed]",
      "text/plain": [
       "<Figure size 640x480 with 2 Axes>"
      ]
     },
     "metadata": {},
     "output_type": "display_data"
    }
   ],
   "source": [
    "fig = plt.figure()\n",
    "fig.suptitle('Text len', fontsize=14, fontweight='bold')\n",
    "\n",
    "axH = fig.add_subplot(121)\n",
    "axH.boxplot(human_written['ans_clean_len'])\n",
    "axH.set_title('Human')\n",
    "\n",
    "axI = fig.add_subplot(122)\n",
    "axI.boxplot(ai_written['ans_clean_len'])\n",
    "axI.set_title('AI')\n",
    "\n"
   ]
  },
  {
   "cell_type": "code",
   "execution_count": 203,
   "metadata": {},
   "outputs": [
    {
     "data": {
      "text/plain": [
       "<Axes: >"
      ]
     },
     "execution_count": 203,
     "metadata": {},
     "output_type": "execute_result"
    },
    {
     "data": {
      "image/png": "[encoded data removed]",
      "text/plain": [
       "<Figure size 640x480 with 1 Axes>"
      ]
     },
     "metadata": {},
     "output_type": "display_data"
    }
   ],
   "source": [
    "data.boxplot(['q_clean_len'])"
   ]
  },
  {
   "attachments": {},
   "cell_type": "markdown",
   "metadata": {},
   "source": [
    "### Cleaning"
   ]
  },
  {
   "attachments": {},
   "cell_type": "markdown",
   "metadata": {},
   "source": [
    "Можно сделать наблюдательные выводы по усатым боксам. Для ответа текст человека и машины обрезаем до 1500 смиволов. Для контекста - 130"
   ]
  },
  {
   "cell_type": "code",
   "execution_count": 204,
   "metadata": {},
   "outputs": [
    {
     "data": {
      "text/html": [
       "<div>\n",
       "<style scoped>\n",
       "    .dataframe tbody tr th:only-of-type {\n",
       "        vertical-align: middle;\n",
       "    }\n",
       "\n",
       "    .dataframe tbody tr th {\n",
       "        vertical-align: top;\n",
       "    }\n",
       "\n",
       "    .dataframe thead th {\n",
       "        text-align: right;\n",
       "    }\n",
       "</style>\n",
       "<table border=\"1\" class=\"dataframe\">\n",
       "  <thead>\n",
       "    <tr style=\"text-align: right;\">\n",
       "      <th></th>\n",
       "      <th>q_title</th>\n",
       "      <th>q_id</th>\n",
       "      <th>label</th>\n",
       "      <th>ans_text</th>\n",
       "      <th>line_id</th>\n",
       "      <th>ans_clean</th>\n",
       "      <th>q_clean</th>\n",
       "      <th>original_text_len</th>\n",
       "      <th>tabs_count</th>\n",
       "      <th>ans_clean_len</th>\n",
       "      <th>q_clean_len</th>\n",
       "    </tr>\n",
       "  </thead>\n",
       "  <tbody>\n",
       "    <tr>\n",
       "      <th>0</th>\n",
       "      <td>Какие комплектующие должны быть в компьютере, ...</td>\n",
       "      <td>fff6c529-c037-47c8-b33b-873397243fbd</td>\n",
       "      <td>hu_answer</td>\n",
       "      <td>Да ничего особенного. :)\\nКорпус должен быть, ...</td>\n",
       "      <td>735ba0c5-e6b2-461a-bf5d-b7cb67d42299</td>\n",
       "      <td>да ничего особенного . : ) корпус должен быть ...</td>\n",
       "      <td>какие комплектующие должны быть в компьютере ,...</td>\n",
       "      <td>530</td>\n",
       "      <td>0</td>\n",
       "      <td>545</td>\n",
       "      <td>145</td>\n",
       "    </tr>\n",
       "    <tr>\n",
       "      <th>1</th>\n",
       "      <td>Какие комплектующие должны быть в компьютере, ...</td>\n",
       "      <td>fff6c529-c037-47c8-b33b-873397243fbd</td>\n",
       "      <td>ai_answer</td>\n",
       "      <td>Здравствуйте! Спасибо за интересный вопрос. Дл...</td>\n",
       "      <td>f5eb55c6-2785-4ddc-8f97-30021fd75d68</td>\n",
       "      <td>здравствуйте ! спасибо за интересный вопрос . ...</td>\n",
       "      <td>какие комплектующие должны быть в компьютере ,...</td>\n",
       "      <td>686</td>\n",
       "      <td>0</td>\n",
       "      <td>702</td>\n",
       "      <td>145</td>\n",
       "    </tr>\n",
       "    <tr>\n",
       "      <th>2</th>\n",
       "      <td>Loading a Reusable UITableViewCell from a Nib</td>\n",
       "      <td>fff28c1f-9331-4467-b6f4-143d127a02a0</td>\n",
       "      <td>ai_answer</td>\n",
       "      <td>To load a reusable UITableViewCell from a Nib,...</td>\n",
       "      <td>bfd3d85e-6981-423d-a138-7580530a1f85</td>\n",
       "      <td>to load a reusable uitableviewcell from a nib ...</td>\n",
       "      <td>loading a reusable uitableviewcell from a nib</td>\n",
       "      <td>636</td>\n",
       "      <td>0</td>\n",
       "      <td>655</td>\n",
       "      <td>45</td>\n",
       "    </tr>\n",
       "    <tr>\n",
       "      <th>3</th>\n",
       "      <td>Loading a Reusable UITableViewCell from a Nib</td>\n",
       "      <td>fff28c1f-9331-4467-b6f4-143d127a02a0</td>\n",
       "      <td>hu_answer</td>\n",
       "      <td>Actually, since you are building the cell in I...</td>\n",
       "      <td>b823bb82-4b05-41ec-b226-7bd0aef29711</td>\n",
       "      <td>actually , since you are building the cell in ...</td>\n",
       "      <td>loading a reusable uitableviewcell from a nib</td>\n",
       "      <td>425</td>\n",
       "      <td>0</td>\n",
       "      <td>432</td>\n",
       "      <td>45</td>\n",
       "    </tr>\n",
       "    <tr>\n",
       "      <th>4</th>\n",
       "      <td>How can I change UIButton title color?</td>\n",
       "      <td>ffeccbf1-eff2-42b2-a472-f2a8c70b7dbd</td>\n",
       "      <td>hu_answer</td>\n",
       "      <td>You can use -[UIButton setTitleColor:forState:...</td>\n",
       "      <td>4816a574-6bbf-4658-b37b-39d05c29dfca</td>\n",
       "      <td>you can use - [ uibutton settitlecolor : forst...</td>\n",
       "      <td>how can i change uibutton title color ?</td>\n",
       "      <td>331</td>\n",
       "      <td>0</td>\n",
       "      <td>349</td>\n",
       "      <td>39</td>\n",
       "    </tr>\n",
       "  </tbody>\n",
       "</table>\n",
       "</div>"
      ],
      "text/plain": [
       "                                             q_title   \n",
       "0  Какие комплектующие должны быть в компьютере, ...  \\\n",
       "1  Какие комплектующие должны быть в компьютере, ...   \n",
       "2      Loading a Reusable UITableViewCell from a Nib   \n",
       "3      Loading a Reusable UITableViewCell from a Nib   \n",
       "4             How can I change UIButton title color?   \n",
       "\n",
       "                                   q_id      label   \n",
       "0  fff6c529-c037-47c8-b33b-873397243fbd  hu_answer  \\\n",
       "1  fff6c529-c037-47c8-b33b-873397243fbd  ai_answer   \n",
       "2  fff28c1f-9331-4467-b6f4-143d127a02a0  ai_answer   \n",
       "3  fff28c1f-9331-4467-b6f4-143d127a02a0  hu_answer   \n",
       "4  ffeccbf1-eff2-42b2-a472-f2a8c70b7dbd  hu_answer   \n",
       "\n",
       "                                            ans_text   \n",
       "0  Да ничего особенного. :)\\nКорпус должен быть, ...  \\\n",
       "1  Здравствуйте! Спасибо за интересный вопрос. Дл...   \n",
       "2  To load a reusable UITableViewCell from a Nib,...   \n",
       "3  Actually, since you are building the cell in I...   \n",
       "4  You can use -[UIButton setTitleColor:forState:...   \n",
       "\n",
       "                                line_id   \n",
       "0  735ba0c5-e6b2-461a-bf5d-b7cb67d42299  \\\n",
       "1  f5eb55c6-2785-4ddc-8f97-30021fd75d68   \n",
       "2  bfd3d85e-6981-423d-a138-7580530a1f85   \n",
       "3  b823bb82-4b05-41ec-b226-7bd0aef29711   \n",
       "4  4816a574-6bbf-4658-b37b-39d05c29dfca   \n",
       "\n",
       "                                           ans_clean   \n",
       "0  да ничего особенного . : ) корпус должен быть ...  \\\n",
       "1  здравствуйте ! спасибо за интересный вопрос . ...   \n",
       "2  to load a reusable uitableviewcell from a nib ...   \n",
       "3  actually , since you are building the cell in ...   \n",
       "4  you can use - [ uibutton settitlecolor : forst...   \n",
       "\n",
       "                                             q_clean  original_text_len   \n",
       "0  какие комплектующие должны быть в компьютере ,...                530  \\\n",
       "1  какие комплектующие должны быть в компьютере ,...                686   \n",
       "2      loading a reusable uitableviewcell from a nib                636   \n",
       "3      loading a reusable uitableviewcell from a nib                425   \n",
       "4            how can i change uibutton title color ?                331   \n",
       "\n",
       "   tabs_count  ans_clean_len  q_clean_len  \n",
       "0           0            545          145  \n",
       "1           0            702          145  \n",
       "2           0            655           45  \n",
       "3           0            432           45  \n",
       "4           0            349           39  "
      ]
     },
     "execution_count": 204,
     "metadata": {},
     "output_type": "execute_result"
    }
   ],
   "source": [
    "data.head()\n"
   ]
  },
  {
   "cell_type": "code",
   "execution_count": 205,
   "metadata": {},
   "outputs": [],
   "source": [
    "def cutting_string(text: string, edge: int)->string:\n",
    "    return text[:edge]\n",
    "\n",
    "    \n",
    "data['ans_clean'] = data['ans_clean'].apply(\n",
    "        lambda x: pd.Series(cutting_string(x, 1500))\n",
    "        )\n",
    "\n",
    "data['q_clean'] = data['q_clean'].apply(\n",
    "        lambda x: pd.Series(cutting_string(x, 130))\n",
    "        )\n"
   ]
  },
  {
   "cell_type": "code",
   "execution_count": 206,
   "metadata": {},
   "outputs": [
    {
     "data": {
      "text/plain": [
       "<Axes: >"
      ]
     },
     "execution_count": 206,
     "metadata": {},
     "output_type": "execute_result"
    },
    {
     "data": {
      "image/png": "[encoded data removed]",
      "text/plain": [
       "<Figure size 640x480 with 1 Axes>"
      ]
     },
     "metadata": {},
     "output_type": "display_data"
    }
   ],
   "source": [
    "data['ans_clean_len'] = data['ans_clean'].str.len()\n",
    "data['q_clean_len'] = data['q_clean'].str.len()\n",
    "data.boxplot(['q_clean_len'])"
   ]
  },
  {
   "cell_type": "code",
   "execution_count": 207,
   "metadata": {},
   "outputs": [
    {
     "data": {
      "text/plain": [
       "<Axes: >"
      ]
     },
     "execution_count": 207,
     "metadata": {},
     "output_type": "execute_result"
    },
    {
     "data": {
      "image/png": "[encoded data removed]",
      "text/plain": [
       "<Figure size 640x480 with 1 Axes>"
      ]
     },
     "metadata": {},
     "output_type": "display_data"
    }
   ],
   "source": [
    "data.boxplot(['ans_clean_len']) # for all"
   ]
  },
  {
   "cell_type": "code",
   "execution_count": null,
   "metadata": {},
   "outputs": [],
   "source": []
  },
  {
   "attachments": {},
   "cell_type": "markdown",
   "metadata": {},
   "source": [
    "### Catboost"
   ]
  },
  {
   "cell_type": "code",
   "execution_count": 209,
   "metadata": {},
   "outputs": [
    {
     "data": {
      "text/html": [
       "<div>\n",
       "<style scoped>\n",
       "    .dataframe tbody tr th:only-of-type {\n",
       "        vertical-align: middle;\n",
       "    }\n",
       "\n",
       "    .dataframe tbody tr th {\n",
       "        vertical-align: top;\n",
       "    }\n",
       "\n",
       "    .dataframe thead th {\n",
       "        text-align: right;\n",
       "    }\n",
       "</style>\n",
       "<table border=\"1\" class=\"dataframe\">\n",
       "  <thead>\n",
       "    <tr style=\"text-align: right;\">\n",
       "      <th></th>\n",
       "      <th>q_title</th>\n",
       "      <th>q_id</th>\n",
       "      <th>label</th>\n",
       "      <th>ans_text</th>\n",
       "      <th>line_id</th>\n",
       "      <th>ans_clean</th>\n",
       "      <th>q_clean</th>\n",
       "      <th>original_text_len</th>\n",
       "      <th>tabs_count</th>\n",
       "      <th>ans_clean_len</th>\n",
       "      <th>q_clean_len</th>\n",
       "    </tr>\n",
       "  </thead>\n",
       "  <tbody>\n",
       "    <tr>\n",
       "      <th>0</th>\n",
       "      <td>Какие комплектующие должны быть в компьютере, ...</td>\n",
       "      <td>fff6c529-c037-47c8-b33b-873397243fbd</td>\n",
       "      <td>0</td>\n",
       "      <td>Да ничего особенного. :)\\nКорпус должен быть, ...</td>\n",
       "      <td>735ba0c5-e6b2-461a-bf5d-b7cb67d42299</td>\n",
       "      <td>да ничего особенного . : ) корпус должен быть ...</td>\n",
       "      <td>какие комплектующие должны быть в компьютере ,...</td>\n",
       "      <td>530</td>\n",
       "      <td>0</td>\n",
       "      <td>545</td>\n",
       "      <td>130</td>\n",
       "    </tr>\n",
       "    <tr>\n",
       "      <th>1</th>\n",
       "      <td>Какие комплектующие должны быть в компьютере, ...</td>\n",
       "      <td>fff6c529-c037-47c8-b33b-873397243fbd</td>\n",
       "      <td>1</td>\n",
       "      <td>Здравствуйте! Спасибо за интересный вопрос. Дл...</td>\n",
       "      <td>f5eb55c6-2785-4ddc-8f97-30021fd75d68</td>\n",
       "      <td>здравствуйте ! спасибо за интересный вопрос . ...</td>\n",
       "      <td>какие комплектующие должны быть в компьютере ,...</td>\n",
       "      <td>686</td>\n",
       "      <td>0</td>\n",
       "      <td>702</td>\n",
       "      <td>130</td>\n",
       "    </tr>\n",
       "    <tr>\n",
       "      <th>2</th>\n",
       "      <td>Loading a Reusable UITableViewCell from a Nib</td>\n",
       "      <td>fff28c1f-9331-4467-b6f4-143d127a02a0</td>\n",
       "      <td>1</td>\n",
       "      <td>To load a reusable UITableViewCell from a Nib,...</td>\n",
       "      <td>bfd3d85e-6981-423d-a138-7580530a1f85</td>\n",
       "      <td>to load a reusable uitableviewcell from a nib ...</td>\n",
       "      <td>loading a reusable uitableviewcell from a nib</td>\n",
       "      <td>636</td>\n",
       "      <td>0</td>\n",
       "      <td>655</td>\n",
       "      <td>45</td>\n",
       "    </tr>\n",
       "    <tr>\n",
       "      <th>3</th>\n",
       "      <td>Loading a Reusable UITableViewCell from a Nib</td>\n",
       "      <td>fff28c1f-9331-4467-b6f4-143d127a02a0</td>\n",
       "      <td>0</td>\n",
       "      <td>Actually, since you are building the cell in I...</td>\n",
       "      <td>b823bb82-4b05-41ec-b226-7bd0aef29711</td>\n",
       "      <td>actually , since you are building the cell in ...</td>\n",
       "      <td>loading a reusable uitableviewcell from a nib</td>\n",
       "      <td>425</td>\n",
       "      <td>0</td>\n",
       "      <td>432</td>\n",
       "      <td>45</td>\n",
       "    </tr>\n",
       "    <tr>\n",
       "      <th>4</th>\n",
       "      <td>How can I change UIButton title color?</td>\n",
       "      <td>ffeccbf1-eff2-42b2-a472-f2a8c70b7dbd</td>\n",
       "      <td>0</td>\n",
       "      <td>You can use -[UIButton setTitleColor:forState:...</td>\n",
       "      <td>4816a574-6bbf-4658-b37b-39d05c29dfca</td>\n",
       "      <td>you can use - [ uibutton settitlecolor : forst...</td>\n",
       "      <td>how can i change uibutton title color ?</td>\n",
       "      <td>331</td>\n",
       "      <td>0</td>\n",
       "      <td>349</td>\n",
       "      <td>39</td>\n",
       "    </tr>\n",
       "  </tbody>\n",
       "</table>\n",
       "</div>"
      ],
      "text/plain": [
       "                                             q_title   \n",
       "0  Какие комплектующие должны быть в компьютере, ...  \\\n",
       "1  Какие комплектующие должны быть в компьютере, ...   \n",
       "2      Loading a Reusable UITableViewCell from a Nib   \n",
       "3      Loading a Reusable UITableViewCell from a Nib   \n",
       "4             How can I change UIButton title color?   \n",
       "\n",
       "                                   q_id  label   \n",
       "0  fff6c529-c037-47c8-b33b-873397243fbd      0  \\\n",
       "1  fff6c529-c037-47c8-b33b-873397243fbd      1   \n",
       "2  fff28c1f-9331-4467-b6f4-143d127a02a0      1   \n",
       "3  fff28c1f-9331-4467-b6f4-143d127a02a0      0   \n",
       "4  ffeccbf1-eff2-42b2-a472-f2a8c70b7dbd      0   \n",
       "\n",
       "                                            ans_text   \n",
       "0  Да ничего особенного. :)\\nКорпус должен быть, ...  \\\n",
       "1  Здравствуйте! Спасибо за интересный вопрос. Дл...   \n",
       "2  To load a reusable UITableViewCell from a Nib,...   \n",
       "3  Actually, since you are building the cell in I...   \n",
       "4  You can use -[UIButton setTitleColor:forState:...   \n",
       "\n",
       "                                line_id   \n",
       "0  735ba0c5-e6b2-461a-bf5d-b7cb67d42299  \\\n",
       "1  f5eb55c6-2785-4ddc-8f97-30021fd75d68   \n",
       "2  bfd3d85e-6981-423d-a138-7580530a1f85   \n",
       "3  b823bb82-4b05-41ec-b226-7bd0aef29711   \n",
       "4  4816a574-6bbf-4658-b37b-39d05c29dfca   \n",
       "\n",
       "                                           ans_clean   \n",
       "0  да ничего особенного . : ) корпус должен быть ...  \\\n",
       "1  здравствуйте ! спасибо за интересный вопрос . ...   \n",
       "2  to load a reusable uitableviewcell from a nib ...   \n",
       "3  actually , since you are building the cell in ...   \n",
       "4  you can use - [ uibutton settitlecolor : forst...   \n",
       "\n",
       "                                             q_clean  original_text_len   \n",
       "0  какие комплектующие должны быть в компьютере ,...                530  \\\n",
       "1  какие комплектующие должны быть в компьютере ,...                686   \n",
       "2      loading a reusable uitableviewcell from a nib                636   \n",
       "3      loading a reusable uitableviewcell from a nib                425   \n",
       "4            how can i change uibutton title color ?                331   \n",
       "\n",
       "   tabs_count  ans_clean_len  q_clean_len  \n",
       "0           0            545          130  \n",
       "1           0            702          130  \n",
       "2           0            655           45  \n",
       "3           0            432           45  \n",
       "4           0            349           39  "
      ]
     },
     "execution_count": 209,
     "metadata": {},
     "output_type": "execute_result"
    }
   ],
   "source": [
    "data['label'] = data['label'].map({'ai_answer': 1, 'hu_answer': 0}) # 1 - AI\n",
    "data.head()"
   ]
  },
  {
   "cell_type": "code",
   "execution_count": 244,
   "metadata": {},
   "outputs": [
    {
     "data": {
      "text/html": [
       "<div>\n",
       "<style scoped>\n",
       "    .dataframe tbody tr th:only-of-type {\n",
       "        vertical-align: middle;\n",
       "    }\n",
       "\n",
       "    .dataframe tbody tr th {\n",
       "        vertical-align: top;\n",
       "    }\n",
       "\n",
       "    .dataframe thead th {\n",
       "        text-align: right;\n",
       "    }\n",
       "</style>\n",
       "<table border=\"1\" class=\"dataframe\">\n",
       "  <thead>\n",
       "    <tr style=\"text-align: right;\">\n",
       "      <th></th>\n",
       "      <th>ans_clean</th>\n",
       "      <th>q_clean</th>\n",
       "      <th>original_text_len</th>\n",
       "    </tr>\n",
       "  </thead>\n",
       "  <tbody>\n",
       "    <tr>\n",
       "      <th>1833</th>\n",
       "      <td>the `` fit '' method in scikit-learn is used t...</td>\n",
       "      <td>what does the `` fit '' method in scikit-learn...</td>\n",
       "      <td>543</td>\n",
       "    </tr>\n",
       "    <tr>\n",
       "      <th>693</th>\n",
       "      <td>if you use a navigation controller and set its...</td>\n",
       "      <td>iphone viewwillappear not firing</td>\n",
       "      <td>301</td>\n",
       "    </tr>\n",
       "    <tr>\n",
       "      <th>969</th>\n",
       "      <td>your algorithm is nearly correct . however , t...</td>\n",
       "      <td>random weighted choice</td>\n",
       "      <td>471</td>\n",
       "    </tr>\n",
       "    <tr>\n",
       "      <th>2168</th>\n",
       "      <td>а всяких лузеров , психически и эмоционально н...</td>\n",
       "      <td>почему всех так раздражает памятник петра в мо...</td>\n",
       "      <td>307</td>\n",
       "    </tr>\n",
       "    <tr>\n",
       "      <th>2117</th>\n",
       "      <td>from apples dev resources : to set the user co...</td>\n",
       "      <td>cleaning up the iphone simulator</td>\n",
       "      <td>272</td>\n",
       "    </tr>\n",
       "  </tbody>\n",
       "</table>\n",
       "</div>"
      ],
      "text/plain": [
       "                                              ans_clean   \n",
       "1833  the `` fit '' method in scikit-learn is used t...  \\\n",
       "693   if you use a navigation controller and set its...   \n",
       "969   your algorithm is nearly correct . however , t...   \n",
       "2168  а всяких лузеров , психически и эмоционально н...   \n",
       "2117  from apples dev resources : to set the user co...   \n",
       "\n",
       "                                                q_clean  original_text_len  \n",
       "1833  what does the `` fit '' method in scikit-learn...                543  \n",
       "693                    iphone viewwillappear not firing                301  \n",
       "969                              random weighted choice                471  \n",
       "2168  почему всех так раздражает памятник петра в мо...                307  \n",
       "2117                   cleaning up the iphone simulator                272  "
      ]
     },
     "execution_count": 244,
     "metadata": {},
     "output_type": "execute_result"
    }
   ],
   "source": [
    "y = data['label']\n",
    "drop_list = ['q_title',\n",
    "                 'q_id',\n",
    "                 'ans_text',\n",
    "                 'label',\n",
    "                 'line_id',\n",
    "                 'tabs_count',\n",
    "                 'ans_clean_len',\n",
    "                #  'original_text_len', worse without\n",
    "                # 'ans_clean',\n",
    "                # 'q_clean',\n",
    "                 'q_clean_len']\n",
    "    \n",
    "    \n",
    "X = data.drop(drop_list, axis=1)\n",
    "\n",
    "X_train, X_test, y_train, y_test = train_test_split(X, y, test_size=0.15, random_state=42, shuffle=True)\n",
    "X_train.head()"
   ]
  },
  {
   "cell_type": "code",
   "execution_count": 245,
   "metadata": {},
   "outputs": [
    {
     "data": {
      "text/plain": [
       "['ans_clean', 'q_clean', 'original_text_len']"
      ]
     },
     "execution_count": 245,
     "metadata": {},
     "output_type": "execute_result"
    }
   ],
   "source": [
    "list(X_train)"
   ]
  },
  {
   "cell_type": "code",
   "execution_count": 266,
   "metadata": {},
   "outputs": [],
   "source": [
    "def catboost_train(X_train, X_test, y_train, y_test):\n",
    "    \n",
    "    text_feats = [\n",
    "        'q_clean',\n",
    "        'ans_clean'\n",
    "                  ]\n",
    "    \n",
    "    train_pool = Pool(\n",
    "        X_train, \n",
    "        y_train, \n",
    "        text_features=text_feats, \n",
    "        feature_names=list(X_train)\n",
    "    )\n",
    "    \n",
    "    valid_pool = Pool(\n",
    "        X_test, \n",
    "        y_test,\n",
    "        text_features=text_feats, \n",
    "        feature_names=list(X_test)\n",
    "    )\n",
    "\n",
    "    catboost_params = {\n",
    "        'iterations': 1000,\n",
    "        'learning_rate': 0.1,\n",
    "        'eval_metric': 'F1',\n",
    "        'task_type': 'CPU',\n",
    "        'early_stopping_rounds': 400,\n",
    "        'use_best_model': True,\n",
    "        'verbose': 100,\n",
    "        # 'auto_class_weights':'Balanced'\n",
    "    }\n",
    "    \n",
    "    model = CatBoostClassifier(**catboost_params)\n",
    "    model.fit(train_pool, eval_set=valid_pool, plot=True)\n",
    "    \n",
    "    pred = model.predict(X_test)\n",
    "    return pred\n",
    "    "
   ]
  },
  {
   "cell_type": "code",
   "execution_count": 267,
   "metadata": {},
   "outputs": [
    {
     "data": {
      "application/vnd.jupyter.widget-view+json": {
       "model_id": "e6e4ec2b348543b68050d7888ba6e8ad",
       "version_major": 2,
       "version_minor": 0
      },
      "text/plain": [
       "MetricVisualizer(layout=Layout(align_self='stretch', height='500px'))"
      ]
     },
     "metadata": {},
     "output_type": "display_data"
    },
    {
     "name": "stdout",
     "output_type": "stream",
     "text": [
      "0:\tlearn: 0.8684526\ttest: 0.8872912\tbest: 0.8872912 (0)\ttotal: 83ms\tremaining: 1m 22s\n",
      "100:\tlearn: 0.9711377\ttest: 0.9545055\tbest: 0.9557858 (85)\ttotal: 11s\tremaining: 1m 37s\n",
      "200:\tlearn: 0.9872819\ttest: 0.9557858\tbest: 0.9585740 (177)\ttotal: 21.8s\tremaining: 1m 26s\n",
      "300:\tlearn: 0.9985347\ttest: 0.9625341\tbest: 0.9625341 (284)\ttotal: 32.5s\tremaining: 1m 15s\n",
      "400:\tlearn: 1.0000000\ttest: 0.9678866\tbest: 0.9678866 (383)\ttotal: 43.4s\tremaining: 1m 4s\n",
      "500:\tlearn: 1.0000000\ttest: 0.9678866\tbest: 0.9678866 (383)\ttotal: 53.9s\tremaining: 53.7s\n",
      "600:\tlearn: 1.0000000\ttest: 0.9678866\tbest: 0.9678866 (383)\ttotal: 1m 4s\tremaining: 43s\n",
      "700:\tlearn: 1.0000000\ttest: 0.9678866\tbest: 0.9678866 (383)\ttotal: 1m 15s\tremaining: 32.3s\n",
      "Stopped by overfitting detector  (400 iterations wait)\n",
      "\n",
      "bestTest = 0.9678866113\n",
      "bestIteration = 383\n",
      "\n",
      "Shrink model to first 384 iterations.\n"
     ]
    }
   ],
   "source": [
    "y_pred = catboost_train(X_train, X_test, y_train, y_test)"
   ]
  },
  {
   "cell_type": "code",
   "execution_count": 261,
   "metadata": {},
   "outputs": [
    {
     "name": "stdout",
     "output_type": "stream",
     "text": [
      "0.9705882352941176\n",
      "[0 1 1 1 0]\n"
     ]
    }
   ],
   "source": [
    "from sklearn.metrics import f1_score\n",
    "\n",
    "print(f1_score(y_pred, y_test))\n",
    "print(y_pred[:5])"
   ]
  },
  {
   "attachments": {},
   "cell_type": "markdown",
   "metadata": {},
   "source": [
    "### Transformers"
   ]
  },
  {
   "cell_type": "code",
   "execution_count": 2,
   "metadata": {},
   "outputs": [],
   "source": [
    "from simpletransformers.classification import ClassificationModel, ClassificationArgs"
   ]
  },
  {
   "cell_type": "code",
   "execution_count": null,
   "metadata": {},
   "outputs": [],
   "source": [
    "\n",
    "model_args = ClassificationArgs(\n",
    "                                num_train_epochs=2,\n",
    "                                use_early_stopping = True,\n",
    "                                overwrite_output_dir=True,\n",
    "                                train_batch_size=8,\n",
    "                                eval_batch_size=8\n",
    "                                )\n",
    "\n",
    "pretrained_models = [\n",
    "                      [\"bert\", \"amberoad/bert-multilingual-passage-reranking-msmarco\"],\n",
    "                      [\"bert\", \"bert-base-multilingual-cased\"],\n",
    "                      [\"xlmroberta\", \"xlm-roberta-large\"],\n",
    "                      [\"xlmroberta\", \"papluca/xlm-roberta-base-language-detection\"]\n",
    "                    ]\n",
    "\n",
    "choice = 2\n",
    "\n",
    "model = ClassificationModel(\n",
    "    pretrained_models[choice][0], pretrained_models[choice][1], args=model_args\n",
    ")\n"
   ]
  },
  {
   "cell_type": "code",
   "execution_count": null,
   "metadata": {},
   "outputs": [],
   "source": [
    "\n",
    "model.train_model(train, f1=f1_score)\n",
    "result, model_outputs, wrong_predictions = model.eval_model(eval, f1=f1_score)"
   ]
  },
  {
   "attachments": {},
   "cell_type": "markdown",
   "metadata": {},
   "source": [
    "### Baseline \n",
    "не использовался в ноутбуке..\n"
   ]
  },
  {
   "cell_type": "code",
   "execution_count": 113,
   "metadata": {},
   "outputs": [],
   "source": [
    "def train_and_make_predictions(X_train, y_train, X_test):\n",
    "    clf = svm.LinearSVC(class_weight='balanced', verbose=False, max_iter=10000, tol=1e-6, C=0.1)\n",
    "    clf.fit(X_train, y_train)\n",
    "    y_pred = clf.predict(X_test)\n",
    "    return y_pred"
   ]
  },
  {
   "cell_type": "code",
   "execution_count": 91,
   "metadata": {},
   "outputs": [],
   "source": [
    "models_name = ['bert-base-nli-mean-tokens',\n",
    "               'sentence-transformers/all-MiniLM-L6-v2',\n",
    "               'paraphrase-multilingual-MiniLM-L12-v2'\n",
    "               ]\n",
    "model = SentenceTransformer(models_name[1])\n"
   ]
  },
  {
   "cell_type": "code",
   "execution_count": 93,
   "metadata": {},
   "outputs": [],
   "source": [
    "df_train = data\n",
    "df_test = data\n",
    "\n",
    "ans_train = df_train[\"ans_text\"].values\n",
    "y_train = df_train[\"label\"].map({'ai_answer': 1, 'hu_answer': 0}).values\n",
    "ans_test = df_test[\"ans_text\"].values\n",
    "\n",
    "feat_extractor = model #SentenceTransformer('sentence-transformers/distiluse-base-multilingual-cased-v1')\n",
    "emb_train = feat_extractor.encode(ans_train.tolist())\n",
    "emb_test = feat_extractor.encode(ans_test.tolist())\n",
    "\n",
    "y_pred = train_and_make_predictions(emb_train, y_train, emb_test)\n",
    "\n",
    "df_test[\"label\"] = y_pred\n",
    "df_test[\"label\"] = df_test[\"label\"].map({1: 'ai_answer', 0: 'hu_answer'})\n",
    "df_test[[\"line_id\", \"label\"]].to_csv(\"data/submission.csv\", sep=\",\", index=False)"
   ]
  },
  {
   "cell_type": "code",
   "execution_count": 94,
   "metadata": {},
   "outputs": [
    {
     "data": {
      "text/plain": [
       "array(['The \"fit\" method in scikit-learn is used to train a machine learning model on a given dataset. It takes the input data and the corresponding output labels as arguments and fits the model to the data. During the fitting process, the model learns the underlying patterns and relationships in the data, which can then be used to make predictions on new, unseen data. The \"fit\" method is a crucial step in the machine learning pipeline and is used in many different types of models, including regression, classification, and clustering algorithms.',\n",
       "       'If you use a navigation controller and set its delegate, then the view{Will,Did}{Appear,Disappear} methods are not invoked.\\nYou need to use the navigation controller delegate methods instead:\\nnavigationController:willShowViewController:animated:\\nnavigationController:didShowViewController:animated:\\n\\n\\n',\n",
       "       'Your algorithm is nearly correct. However, the test should be <\\ninstead of <=\\n:\\nif (randomNumber < broker.Weight)\\n\\n\\nThis is because 0 is inclusive in the random number while totalWeight\\nis exclusive. In other words, a broker with weight 0 would still have a small chance of being selected –\\xa0not at all what you want. This accounts for broker A having more hits than broker D.\\nOther than that, your algorithm is fine and in fact the canonical way of solving this problem.\\n',\n",
       "       ...,\n",
       "       'Ну что ж, давайте разберемся, как выстроить последовательность действий по созданию электронного топографического плана. Сначала нужно определиться с территорией, которую мы будем изучать. Потом собираем данные о рельефе, геологии, гидрологии и прочих интересных вещах. Далее, используя специальное программное обеспечение, мы создаем цифровую модель местности. Ну а потом уже можно заняться созданием самого плана. Как-то так, в общих чертах. Надеюсь, ответ был полезен.',\n",
       "       'Sure, you can request UAC elevation from within a Python script. You just need to use the `ctypes` library to call the `ShellExecute` function from the Windows API. Here\\'s some sample code:\\n\\n```\\nimport ctypes\\n\\ndef run_as_admin():\\n    # Path to the Python script you want to run as admin\\n    script = \"C:\\\\\\\\path\\\\\\\\to\\\\\\\\your\\\\\\\\script.py\"\\n\\n    # Call ShellExecute with the \"runas\" verb to request UAC elevation\\n    ctypes.windll.shell32.ShellExecuteW(None, \"runas\", \"python\", script, None, 1)\\n```\\n\\nJust call the `run_as_admin` function from your Python script, and it will prompt the user for UAC elevation if necessary. Keep in mind that this will only work on Windows, and the user will need to have administrative privileges to grant UAC elevation.',\n",
       "       'To use putty to scp from Windows to Linux, you need to follow these steps:\\n\\n1. Download and install putty on your Windows machine.\\n2. Open putty and enter the IP address of your Linux machine in the \"Host Name\" field.\\n3. Select \"SSH\" as the connection type and click \"Open\".\\n4. Enter your Linux machine\\'s username and password to log in.\\n5. Once logged in, navigate to the directory where the file you want to transfer is located.\\n6. Type the following command to transfer the file: scp [filename] [username]@[destination]:[path]\\n7. Replace [filename] with the name of the file you want to transfer, [username] with your Linux machine\\'s username, [destination] with the IP address of the destination machine, and [path] with the directory where you want to transfer the file.\\n8. Press enter and the file will be transferred from your Windows machine to the Linux machine.\\n\\nNote: Make sure that you have the necessary permissions to access the file and the destination directory on the Linux machine.'],\n",
       "      dtype=object)"
      ]
     },
     "execution_count": 94,
     "metadata": {},
     "output_type": "execute_result"
    }
   ],
   "source": [
    "ans_train "
   ]
  },
  {
   "attachments": {},
   "cell_type": "markdown",
   "metadata": {},
   "source": []
  }
 ],
 "metadata": {
  "kernelspec": {
   "display_name": "lct_env",
   "language": "python",
   "name": "python3"
  },
  "language_info": {
   "codemirror_mode": {
    "name": "ipython",
    "version": 3
   },
   "file_extension": ".py",
   "mimetype": "text/x-python",
   "name": "python",
   "nbconvert_exporter": "python",
   "pygments_lexer": "ipython3",
   "version": "3.11.3"
  },
  "orig_nbformat": 4
 },
 "nbformat": 4,
 "nbformat_minor": 2
}
